{
 "cells": [
  {
   "cell_type": "markdown",
   "metadata": {},
   "source": [
    "#### Load packages"
   ]
  },
  {
   "cell_type": "code",
   "execution_count": 1,
   "metadata": {},
   "outputs": [],
   "source": [
    "import pandas as pd"
   ]
  },
  {
   "cell_type": "markdown",
   "metadata": {},
   "source": [
    "#### Load data"
   ]
  },
  {
   "cell_type": "code",
   "execution_count": 2,
   "metadata": {},
   "outputs": [],
   "source": [
    "data = pd.read_csv('./../data/raw/big-mac-source-data-v2.csv')\n",
    "data['date'] = pd.to_datetime(data['date'])"
   ]
  },
  {
   "cell_type": "code",
   "execution_count": 3,
   "metadata": {},
   "outputs": [
    {
     "data": {
      "text/html": [
       "<div>\n",
       "<style scoped>\n",
       "    .dataframe tbody tr th:only-of-type {\n",
       "        vertical-align: middle;\n",
       "    }\n",
       "\n",
       "    .dataframe tbody tr th {\n",
       "        vertical-align: top;\n",
       "    }\n",
       "\n",
       "    .dataframe thead th {\n",
       "        text-align: right;\n",
       "    }\n",
       "</style>\n",
       "<table border=\"1\" class=\"dataframe\">\n",
       "  <thead>\n",
       "    <tr style=\"text-align: right;\">\n",
       "      <th></th>\n",
       "      <th>name</th>\n",
       "      <th>iso_a3</th>\n",
       "      <th>currency_code</th>\n",
       "      <th>local_price</th>\n",
       "      <th>dollar_ex</th>\n",
       "      <th>GDP_dollar</th>\n",
       "      <th>GDP_local</th>\n",
       "      <th>date</th>\n",
       "    </tr>\n",
       "  </thead>\n",
       "  <tbody>\n",
       "    <tr>\n",
       "      <th>0</th>\n",
       "      <td>Argentina</td>\n",
       "      <td>ARG</td>\n",
       "      <td>ARS</td>\n",
       "      <td>2.50</td>\n",
       "      <td>1.00</td>\n",
       "      <td>8709.072</td>\n",
       "      <td>8709.072</td>\n",
       "      <td>2000-04-01</td>\n",
       "    </tr>\n",
       "    <tr>\n",
       "      <th>1</th>\n",
       "      <td>Australia</td>\n",
       "      <td>AUS</td>\n",
       "      <td>AUD</td>\n",
       "      <td>2.59</td>\n",
       "      <td>1.68</td>\n",
       "      <td>21746.809</td>\n",
       "      <td>33698.764</td>\n",
       "      <td>2000-04-01</td>\n",
       "    </tr>\n",
       "    <tr>\n",
       "      <th>2</th>\n",
       "      <td>Brazil</td>\n",
       "      <td>BRA</td>\n",
       "      <td>BRL</td>\n",
       "      <td>2.95</td>\n",
       "      <td>1.79</td>\n",
       "      <td>3501.438</td>\n",
       "      <td>6351.375</td>\n",
       "      <td>2000-04-01</td>\n",
       "    </tr>\n",
       "    <tr>\n",
       "      <th>3</th>\n",
       "      <td>Canada</td>\n",
       "      <td>CAN</td>\n",
       "      <td>CAD</td>\n",
       "      <td>2.85</td>\n",
       "      <td>1.47</td>\n",
       "      <td>22340.553</td>\n",
       "      <td>33191.468</td>\n",
       "      <td>2000-04-01</td>\n",
       "    </tr>\n",
       "    <tr>\n",
       "      <th>4</th>\n",
       "      <td>Switzerland</td>\n",
       "      <td>CHE</td>\n",
       "      <td>CHF</td>\n",
       "      <td>5.90</td>\n",
       "      <td>1.70</td>\n",
       "      <td>41859.215</td>\n",
       "      <td>62879.029</td>\n",
       "      <td>2000-04-01</td>\n",
       "    </tr>\n",
       "  </tbody>\n",
       "</table>\n",
       "</div>"
      ],
      "text/plain": [
       "          name iso_a3 currency_code  local_price  dollar_ex  GDP_dollar  \\\n",
       "0    Argentina    ARG           ARS         2.50       1.00    8709.072   \n",
       "1    Australia    AUS           AUD         2.59       1.68   21746.809   \n",
       "2       Brazil    BRA           BRL         2.95       1.79    3501.438   \n",
       "3       Canada    CAN           CAD         2.85       1.47   22340.553   \n",
       "4  Switzerland    CHE           CHF         5.90       1.70   41859.215   \n",
       "\n",
       "   GDP_local       date  \n",
       "0   8709.072 2000-04-01  \n",
       "1  33698.764 2000-04-01  \n",
       "2   6351.375 2000-04-01  \n",
       "3  33191.468 2000-04-01  \n",
       "4  62879.029 2000-04-01  "
      ]
     },
     "execution_count": 3,
     "metadata": {},
     "output_type": "execute_result"
    }
   ],
   "source": [
    "data.head()"
   ]
  },
  {
   "cell_type": "markdown",
   "metadata": {},
   "source": [
    "#### Get latest data"
   ]
  },
  {
   "cell_type": "code",
   "execution_count": 4,
   "metadata": {},
   "outputs": [],
   "source": [
    "big_mac_countries = [\n",
    "    'ARG', 'AUS', 'BRA', 'GBR', 'CAN', 'CHL', 'CHN', 'CZE', 'DNK',\n",
    "    'EGY', 'HKG', 'HUN', 'IDN', 'ISR', 'JPN', 'MYS', 'MEX', 'NZL',\n",
    "    'NOR', 'PER', 'PHL', 'POL', 'RUS', 'SAU', 'SGP', 'ZAF', 'KOR',\n",
    "    'SWE', 'CHE', 'TWN', 'THA', 'TUR', 'ARE', 'USA', 'COL', 'CRI',\n",
    "    'PAK', 'LKA', 'UKR', 'URY', 'IND', 'VNM', 'GTM', 'HND', 'VEN',\n",
    "    'NIC', 'AZE', 'BHR', 'HRV', 'JOR', 'KWT', 'LBN', 'MDA', 'OMN',\n",
    "    'QAT', 'ROU', 'EUZ'\n",
    "]"
   ]
  },
  {
   "cell_type": "code",
   "execution_count": 5,
   "metadata": {},
   "outputs": [],
   "source": [
    "latest_date = data['date'].max()\n",
    "latest_data = data[(data['date'] == latest_date)\n",
    "                & (data['iso_a3'].isin(big_mac_countries))].reset_index(drop=True)"
   ]
  },
  {
   "cell_type": "markdown",
   "metadata": {},
   "source": [
    "#### Add Kazakhstan data"
   ]
  },
  {
   "cell_type": "code",
   "execution_count": 6,
   "metadata": {},
   "outputs": [
    {
     "name": "stderr",
     "output_type": "stream",
     "text": [
      "/tmp/ipykernel_10436/1932806503.py:1: FutureWarning: The frame.append method is deprecated and will be removed from pandas in a future version. Use pandas.concat instead.\n",
      "  latest_data = latest_data.append(\n"
     ]
    }
   ],
   "source": [
    "latest_data = latest_data.append(\n",
    "    {\n",
    "        'name' : 'Kazakhstan',\n",
    "        'iso_a3' : 'KAZ',\n",
    "        'currency_code' : 'KZT',\n",
    "        'local_price' : 1050.0,\n",
    "        'dollar_ex' : 479.86,\n",
    "        'GDP_dollar' : None,\n",
    "        'GDP_local' : None,\n",
    "        'date' : latest_date,\n",
    "    },\n",
    "    ignore_index=True,\n",
    ")"
   ]
  },
  {
   "cell_type": "markdown",
   "metadata": {},
   "source": [
    "#### Calculate dollar price"
   ]
  },
  {
   "cell_type": "code",
   "execution_count": 7,
   "metadata": {},
   "outputs": [],
   "source": [
    "latest_data['dollar_price'] = latest_data['local_price']/latest_data['dollar_ex']"
   ]
  },
  {
   "cell_type": "markdown",
   "metadata": {},
   "source": [
    "#### Calculate the Big Mac Index"
   ]
  },
  {
   "cell_type": "markdown",
   "metadata": {},
   "source": [
    "Select our base currencies: the US dollar (USD), Euro (EUR), British pound (GBP), Japanese yen (JPY), Chinese yuan (CNY) and Kazakhstani tenge (KZT)."
   ]
  },
  {
   "cell_type": "code",
   "execution_count": 8,
   "metadata": {},
   "outputs": [],
   "source": [
    "base_currencies = ['USD', 'EUR', 'GBP', 'JPY', 'CNY', 'KZT']"
   ]
  },
  {
   "cell_type": "code",
   "execution_count": 9,
   "metadata": {},
   "outputs": [],
   "source": [
    "for currency in base_currencies:\n",
    "    latest_data[currency] = latest_data['dollar_price'] / latest_data[latest_data['currency_code'] == currency]['dollar_price'].values-1"
   ]
  },
  {
   "cell_type": "code",
   "execution_count": 10,
   "metadata": {},
   "outputs": [
    {
     "data": {
      "text/html": [
       "<div>\n",
       "<style scoped>\n",
       "    .dataframe tbody tr th:only-of-type {\n",
       "        vertical-align: middle;\n",
       "    }\n",
       "\n",
       "    .dataframe tbody tr th {\n",
       "        vertical-align: top;\n",
       "    }\n",
       "\n",
       "    .dataframe thead th {\n",
       "        text-align: right;\n",
       "    }\n",
       "</style>\n",
       "<table border=\"1\" class=\"dataframe\">\n",
       "  <thead>\n",
       "    <tr style=\"text-align: right;\">\n",
       "      <th></th>\n",
       "      <th>name</th>\n",
       "      <th>iso_a3</th>\n",
       "      <th>currency_code</th>\n",
       "      <th>local_price</th>\n",
       "      <th>dollar_ex</th>\n",
       "      <th>GDP_dollar</th>\n",
       "      <th>GDP_local</th>\n",
       "      <th>date</th>\n",
       "      <th>dollar_price</th>\n",
       "      <th>USD</th>\n",
       "      <th>EUR</th>\n",
       "      <th>GBP</th>\n",
       "      <th>JPY</th>\n",
       "      <th>CNY</th>\n",
       "      <th>KZT</th>\n",
       "    </tr>\n",
       "  </thead>\n",
       "  <tbody>\n",
       "    <tr>\n",
       "      <th>0</th>\n",
       "      <td>United Arab Emirates</td>\n",
       "      <td>ARE</td>\n",
       "      <td>AED</td>\n",
       "      <td>18.0</td>\n",
       "      <td>3.673050</td>\n",
       "      <td>42883.686</td>\n",
       "      <td>157490.338</td>\n",
       "      <td>2022-07-01</td>\n",
       "      <td>4.900559</td>\n",
       "      <td>-0.048435</td>\n",
       "      <td>0.028432</td>\n",
       "      <td>0.103728</td>\n",
       "      <td>0.732348</td>\n",
       "      <td>0.377741</td>\n",
       "      <td>1.239602</td>\n",
       "    </tr>\n",
       "    <tr>\n",
       "      <th>1</th>\n",
       "      <td>Argentina</td>\n",
       "      <td>ARG</td>\n",
       "      <td>ARS</td>\n",
       "      <td>590.0</td>\n",
       "      <td>129.115000</td>\n",
       "      <td>10658.458</td>\n",
       "      <td>1013547.474</td>\n",
       "      <td>2022-07-01</td>\n",
       "      <td>4.569570</td>\n",
       "      <td>-0.112705</td>\n",
       "      <td>-0.041029</td>\n",
       "      <td>0.029181</td>\n",
       "      <td>0.615343</td>\n",
       "      <td>0.284687</td>\n",
       "      <td>1.088337</td>\n",
       "    </tr>\n",
       "    <tr>\n",
       "      <th>2</th>\n",
       "      <td>Australia</td>\n",
       "      <td>AUS</td>\n",
       "      <td>AUD</td>\n",
       "      <td>6.7</td>\n",
       "      <td>1.448436</td>\n",
       "      <td>63529.289</td>\n",
       "      <td>84505.238</td>\n",
       "      <td>2022-07-01</td>\n",
       "      <td>4.625680</td>\n",
       "      <td>-0.101810</td>\n",
       "      <td>-0.029254</td>\n",
       "      <td>0.041818</td>\n",
       "      <td>0.635178</td>\n",
       "      <td>0.300462</td>\n",
       "      <td>1.113980</td>\n",
       "    </tr>\n",
       "    <tr>\n",
       "      <th>3</th>\n",
       "      <td>Azerbaijan</td>\n",
       "      <td>AZE</td>\n",
       "      <td>AZN</td>\n",
       "      <td>4.7</td>\n",
       "      <td>1.698250</td>\n",
       "      <td>5397.928</td>\n",
       "      <td>9176.478</td>\n",
       "      <td>2022-07-01</td>\n",
       "      <td>2.767555</td>\n",
       "      <td>-0.462611</td>\n",
       "      <td>-0.419200</td>\n",
       "      <td>-0.376678</td>\n",
       "      <td>-0.021669</td>\n",
       "      <td>-0.221931</td>\n",
       "      <td>0.264799</td>\n",
       "    </tr>\n",
       "    <tr>\n",
       "      <th>4</th>\n",
       "      <td>Bahrain</td>\n",
       "      <td>BHR</td>\n",
       "      <td>BHD</td>\n",
       "      <td>1.6</td>\n",
       "      <td>0.377000</td>\n",
       "      <td>26135.777</td>\n",
       "      <td>9827.052</td>\n",
       "      <td>2022-07-01</td>\n",
       "      <td>4.244032</td>\n",
       "      <td>-0.175916</td>\n",
       "      <td>-0.109347</td>\n",
       "      <td>-0.044138</td>\n",
       "      <td>0.500265</td>\n",
       "      <td>0.193165</td>\n",
       "      <td>0.939563</td>\n",
       "    </tr>\n",
       "  </tbody>\n",
       "</table>\n",
       "</div>"
      ],
      "text/plain": [
       "                   name iso_a3 currency_code  local_price   dollar_ex  \\\n",
       "0  United Arab Emirates    ARE           AED         18.0    3.673050   \n",
       "1             Argentina    ARG           ARS        590.0  129.115000   \n",
       "2             Australia    AUS           AUD          6.7    1.448436   \n",
       "3            Azerbaijan    AZE           AZN          4.7    1.698250   \n",
       "4               Bahrain    BHR           BHD          1.6    0.377000   \n",
       "\n",
       "  GDP_dollar    GDP_local       date  dollar_price       USD       EUR  \\\n",
       "0  42883.686   157490.338 2022-07-01      4.900559 -0.048435  0.028432   \n",
       "1  10658.458  1013547.474 2022-07-01      4.569570 -0.112705 -0.041029   \n",
       "2  63529.289    84505.238 2022-07-01      4.625680 -0.101810 -0.029254   \n",
       "3   5397.928     9176.478 2022-07-01      2.767555 -0.462611 -0.419200   \n",
       "4  26135.777     9827.052 2022-07-01      4.244032 -0.175916 -0.109347   \n",
       "\n",
       "        GBP       JPY       CNY       KZT  \n",
       "0  0.103728  0.732348  0.377741  1.239602  \n",
       "1  0.029181  0.615343  0.284687  1.088337  \n",
       "2  0.041818  0.635178  0.300462  1.113980  \n",
       "3 -0.376678 -0.021669 -0.221931  0.264799  \n",
       "4 -0.044138  0.500265  0.193165  0.939563  "
      ]
     },
     "execution_count": 10,
     "metadata": {},
     "output_type": "execute_result"
    }
   ],
   "source": [
    "latest_data.head()"
   ]
  },
  {
   "cell_type": "code",
   "execution_count": 33,
   "metadata": {},
   "outputs": [
    {
     "data": {
      "application/vnd.plotly.v1+json": {
       "config": {
        "plotlyServerURL": "https://plot.ly"
       },
       "data": [
        {
         "marker": {
          "color": "darkblue",
          "size": 10
         },
         "mode": "markers",
         "type": "scatter",
         "x": [
          "Venezuela",
          "Kazakhstan",
          "Romania",
          "Indonesia",
          "South Africa",
          "India",
          "Egypt",
          "Malaysia",
          "Taiwan",
          "Hungary",
          "Hong Kong",
          "Turkey",
          "Philippines",
          "Azerbaijan",
          "Japan",
          "Vietnam",
          "Moldova",
          "Pakistan",
          "Jordan",
          "Guatemala",
          "Mexico",
          "Colombia",
          "Thailand",
          "South Korea",
          "China",
          "Qatar",
          "Peru",
          "Poland",
          "Honduras",
          "Chile",
          "Croatia",
          "Oman",
          "Sri Lanka",
          "Nicaragua",
          "Costa Rica",
          "Czech Republic",
          "Kuwait",
          "Singapore",
          "Bahrain",
          "Brazil",
          "New Zealand",
          "Britain",
          "Saudi Arabia",
          "Argentina",
          "Australia",
          "Euro area",
          "United Arab Emirates",
          "Israel",
          "Lebanon",
          "United States",
          "Canada",
          "Sweden",
          "Uruguay",
          "Norway",
          "Switzerland"
         ],
         "y": [
          -0.6577332770190485,
          -0.5751187947617409,
          -0.5570234188630503,
          -0.5462449337436576,
          -0.5452301524376562,
          -0.5361253833173858,
          -0.5285279052546078,
          -0.5243809316024872,
          -0.5130617137468358,
          -0.4859221714441847,
          -0.480548296114928,
          -0.4804319047974376,
          -0.4650833132739577,
          -0.4626107114834088,
          -0.4507079001936255,
          -0.4278490732191492,
          -0.39628534371990853,
          -0.387046989415615,
          -0.3711160434449443,
          -0.34671208357763583,
          -0.3341220815819358,
          -0.3241338685108094,
          -0.3211507290668806,
          -0.31995593018756285,
          -0.3093297109595202,
          -0.30685196824049044,
          -0.30667014495457257,
          -0.30324410255971124,
          -0.29792592329643497,
          -0.2889171834783463,
          -0.2846074617958857,
          -0.2838229731433616,
          -0.2772384034519957,
          -0.24797182328960932,
          -0.24117488177182522,
          -0.2288209890573758,
          -0.1788315404488634,
          -0.17663427629641726,
          -0.17591614946820833,
          -0.17529523035237693,
          -0.14034854368932104,
          -0.13786295619081967,
          -0.12091321603557714,
          -0.1127049003127717,
          -0.10180970873786532,
          -0.07474240778887531,
          -0.04843505232219514,
          -0.039703596041714806,
          -0.013956310679611672,
          0,
          0.019713072021189326,
          0.08532300093142586,
          0.18144984745397563,
          0.21633265991991113,
          0.30325357254385565
         ]
        }
       ],
       "layout": {
        "autosize": false,
        "height": 800,
        "paper_bgcolor": "rgba(255,255,255,1)",
        "plot_bgcolor": "rgba(255,255,255,1)",
        "shapes": [
         {
          "line": {
           "color": "crimson",
           "width": 3
          },
          "type": "line",
          "x0": 0,
          "x1": 0,
          "y0": 0,
          "y1": -0.6577332770190485
         },
         {
          "line": {
           "color": "crimson",
           "width": 3
          },
          "type": "line",
          "x0": 1,
          "x1": 1,
          "y0": 0,
          "y1": -0.5751187947617409
         },
         {
          "line": {
           "color": "crimson",
           "width": 3
          },
          "type": "line",
          "x0": 2,
          "x1": 2,
          "y0": 0,
          "y1": -0.5570234188630503
         },
         {
          "line": {
           "color": "crimson",
           "width": 3
          },
          "type": "line",
          "x0": 3,
          "x1": 3,
          "y0": 0,
          "y1": -0.5462449337436576
         },
         {
          "line": {
           "color": "crimson",
           "width": 3
          },
          "type": "line",
          "x0": 4,
          "x1": 4,
          "y0": 0,
          "y1": -0.5452301524376562
         },
         {
          "line": {
           "color": "crimson",
           "width": 3
          },
          "type": "line",
          "x0": 5,
          "x1": 5,
          "y0": 0,
          "y1": -0.5361253833173858
         },
         {
          "line": {
           "color": "crimson",
           "width": 3
          },
          "type": "line",
          "x0": 6,
          "x1": 6,
          "y0": 0,
          "y1": -0.5285279052546078
         },
         {
          "line": {
           "color": "crimson",
           "width": 3
          },
          "type": "line",
          "x0": 7,
          "x1": 7,
          "y0": 0,
          "y1": -0.5243809316024872
         },
         {
          "line": {
           "color": "crimson",
           "width": 3
          },
          "type": "line",
          "x0": 8,
          "x1": 8,
          "y0": 0,
          "y1": -0.5130617137468358
         },
         {
          "line": {
           "color": "crimson",
           "width": 3
          },
          "type": "line",
          "x0": 9,
          "x1": 9,
          "y0": 0,
          "y1": -0.4859221714441847
         },
         {
          "line": {
           "color": "crimson",
           "width": 3
          },
          "type": "line",
          "x0": 10,
          "x1": 10,
          "y0": 0,
          "y1": -0.480548296114928
         },
         {
          "line": {
           "color": "crimson",
           "width": 3
          },
          "type": "line",
          "x0": 11,
          "x1": 11,
          "y0": 0,
          "y1": -0.4804319047974376
         },
         {
          "line": {
           "color": "crimson",
           "width": 3
          },
          "type": "line",
          "x0": 12,
          "x1": 12,
          "y0": 0,
          "y1": -0.4650833132739577
         },
         {
          "line": {
           "color": "crimson",
           "width": 3
          },
          "type": "line",
          "x0": 13,
          "x1": 13,
          "y0": 0,
          "y1": -0.4626107114834088
         },
         {
          "line": {
           "color": "crimson",
           "width": 3
          },
          "type": "line",
          "x0": 14,
          "x1": 14,
          "y0": 0,
          "y1": -0.4507079001936255
         },
         {
          "line": {
           "color": "crimson",
           "width": 3
          },
          "type": "line",
          "x0": 15,
          "x1": 15,
          "y0": 0,
          "y1": -0.4278490732191492
         },
         {
          "line": {
           "color": "crimson",
           "width": 3
          },
          "type": "line",
          "x0": 16,
          "x1": 16,
          "y0": 0,
          "y1": -0.39628534371990853
         },
         {
          "line": {
           "color": "crimson",
           "width": 3
          },
          "type": "line",
          "x0": 17,
          "x1": 17,
          "y0": 0,
          "y1": -0.387046989415615
         },
         {
          "line": {
           "color": "crimson",
           "width": 3
          },
          "type": "line",
          "x0": 18,
          "x1": 18,
          "y0": 0,
          "y1": -0.3711160434449443
         },
         {
          "line": {
           "color": "crimson",
           "width": 3
          },
          "type": "line",
          "x0": 19,
          "x1": 19,
          "y0": 0,
          "y1": -0.34671208357763583
         },
         {
          "line": {
           "color": "crimson",
           "width": 3
          },
          "type": "line",
          "x0": 20,
          "x1": 20,
          "y0": 0,
          "y1": -0.3341220815819358
         },
         {
          "line": {
           "color": "crimson",
           "width": 3
          },
          "type": "line",
          "x0": 21,
          "x1": 21,
          "y0": 0,
          "y1": -0.3241338685108094
         },
         {
          "line": {
           "color": "crimson",
           "width": 3
          },
          "type": "line",
          "x0": 22,
          "x1": 22,
          "y0": 0,
          "y1": -0.3211507290668806
         },
         {
          "line": {
           "color": "crimson",
           "width": 3
          },
          "type": "line",
          "x0": 23,
          "x1": 23,
          "y0": 0,
          "y1": -0.31995593018756285
         },
         {
          "line": {
           "color": "crimson",
           "width": 3
          },
          "type": "line",
          "x0": 24,
          "x1": 24,
          "y0": 0,
          "y1": -0.3093297109595202
         },
         {
          "line": {
           "color": "crimson",
           "width": 3
          },
          "type": "line",
          "x0": 25,
          "x1": 25,
          "y0": 0,
          "y1": -0.30685196824049044
         },
         {
          "line": {
           "color": "crimson",
           "width": 3
          },
          "type": "line",
          "x0": 26,
          "x1": 26,
          "y0": 0,
          "y1": -0.30667014495457257
         },
         {
          "line": {
           "color": "crimson",
           "width": 3
          },
          "type": "line",
          "x0": 27,
          "x1": 27,
          "y0": 0,
          "y1": -0.30324410255971124
         },
         {
          "line": {
           "color": "crimson",
           "width": 3
          },
          "type": "line",
          "x0": 28,
          "x1": 28,
          "y0": 0,
          "y1": -0.29792592329643497
         },
         {
          "line": {
           "color": "crimson",
           "width": 3
          },
          "type": "line",
          "x0": 29,
          "x1": 29,
          "y0": 0,
          "y1": -0.2889171834783463
         },
         {
          "line": {
           "color": "crimson",
           "width": 3
          },
          "type": "line",
          "x0": 30,
          "x1": 30,
          "y0": 0,
          "y1": -0.2846074617958857
         },
         {
          "line": {
           "color": "crimson",
           "width": 3
          },
          "type": "line",
          "x0": 31,
          "x1": 31,
          "y0": 0,
          "y1": -0.2838229731433616
         },
         {
          "line": {
           "color": "crimson",
           "width": 3
          },
          "type": "line",
          "x0": 32,
          "x1": 32,
          "y0": 0,
          "y1": -0.2772384034519957
         },
         {
          "line": {
           "color": "crimson",
           "width": 3
          },
          "type": "line",
          "x0": 33,
          "x1": 33,
          "y0": 0,
          "y1": -0.24797182328960932
         },
         {
          "line": {
           "color": "crimson",
           "width": 3
          },
          "type": "line",
          "x0": 34,
          "x1": 34,
          "y0": 0,
          "y1": -0.24117488177182522
         },
         {
          "line": {
           "color": "crimson",
           "width": 3
          },
          "type": "line",
          "x0": 35,
          "x1": 35,
          "y0": 0,
          "y1": -0.2288209890573758
         },
         {
          "line": {
           "color": "crimson",
           "width": 3
          },
          "type": "line",
          "x0": 36,
          "x1": 36,
          "y0": 0,
          "y1": -0.1788315404488634
         },
         {
          "line": {
           "color": "crimson",
           "width": 3
          },
          "type": "line",
          "x0": 37,
          "x1": 37,
          "y0": 0,
          "y1": -0.17663427629641726
         },
         {
          "line": {
           "color": "crimson",
           "width": 3
          },
          "type": "line",
          "x0": 38,
          "x1": 38,
          "y0": 0,
          "y1": -0.17591614946820833
         },
         {
          "line": {
           "color": "crimson",
           "width": 3
          },
          "type": "line",
          "x0": 39,
          "x1": 39,
          "y0": 0,
          "y1": -0.17529523035237693
         },
         {
          "line": {
           "color": "crimson",
           "width": 3
          },
          "type": "line",
          "x0": 40,
          "x1": 40,
          "y0": 0,
          "y1": -0.14034854368932104
         },
         {
          "line": {
           "color": "crimson",
           "width": 3
          },
          "type": "line",
          "x0": 41,
          "x1": 41,
          "y0": 0,
          "y1": -0.13786295619081967
         },
         {
          "line": {
           "color": "crimson",
           "width": 3
          },
          "type": "line",
          "x0": 42,
          "x1": 42,
          "y0": 0,
          "y1": -0.12091321603557714
         },
         {
          "line": {
           "color": "crimson",
           "width": 3
          },
          "type": "line",
          "x0": 43,
          "x1": 43,
          "y0": 0,
          "y1": -0.1127049003127717
         },
         {
          "line": {
           "color": "crimson",
           "width": 3
          },
          "type": "line",
          "x0": 44,
          "x1": 44,
          "y0": 0,
          "y1": -0.10180970873786532
         },
         {
          "line": {
           "color": "crimson",
           "width": 3
          },
          "type": "line",
          "x0": 45,
          "x1": 45,
          "y0": 0,
          "y1": -0.07474240778887531
         },
         {
          "line": {
           "color": "crimson",
           "width": 3
          },
          "type": "line",
          "x0": 46,
          "x1": 46,
          "y0": 0,
          "y1": -0.04843505232219514
         },
         {
          "line": {
           "color": "crimson",
           "width": 3
          },
          "type": "line",
          "x0": 47,
          "x1": 47,
          "y0": 0,
          "y1": -0.039703596041714806
         },
         {
          "line": {
           "color": "crimson",
           "width": 3
          },
          "type": "line",
          "x0": 48,
          "x1": 48,
          "y0": 0,
          "y1": -0.013956310679611672
         },
         {
          "line": {
           "color": "blue",
           "width": 3
          },
          "type": "line",
          "x0": 49,
          "x1": 49,
          "y0": 0,
          "y1": 0
         },
         {
          "line": {
           "color": "blue",
           "width": 3
          },
          "type": "line",
          "x0": 50,
          "x1": 50,
          "y0": 0,
          "y1": 0.019713072021189326
         },
         {
          "line": {
           "color": "blue",
           "width": 3
          },
          "type": "line",
          "x0": 51,
          "x1": 51,
          "y0": 0,
          "y1": 0.08532300093142586
         },
         {
          "line": {
           "color": "blue",
           "width": 3
          },
          "type": "line",
          "x0": 52,
          "x1": 52,
          "y0": 0,
          "y1": 0.18144984745397563
         },
         {
          "line": {
           "color": "blue",
           "width": 3
          },
          "type": "line",
          "x0": 53,
          "x1": 53,
          "y0": 0,
          "y1": 0.21633265991991113
         },
         {
          "line": {
           "color": "blue",
           "width": 3
          },
          "type": "line",
          "x0": 54,
          "x1": 54,
          "y0": 0,
          "y1": 0.30325357254385565
         }
        ],
        "template": {
         "data": {
          "bar": [
           {
            "error_x": {
             "color": "#2a3f5f"
            },
            "error_y": {
             "color": "#2a3f5f"
            },
            "marker": {
             "line": {
              "color": "#E5ECF6",
              "width": 0.5
             },
             "pattern": {
              "fillmode": "overlay",
              "size": 10,
              "solidity": 0.2
             }
            },
            "type": "bar"
           }
          ],
          "barpolar": [
           {
            "marker": {
             "line": {
              "color": "#E5ECF6",
              "width": 0.5
             },
             "pattern": {
              "fillmode": "overlay",
              "size": 10,
              "solidity": 0.2
             }
            },
            "type": "barpolar"
           }
          ],
          "carpet": [
           {
            "aaxis": {
             "endlinecolor": "#2a3f5f",
             "gridcolor": "white",
             "linecolor": "white",
             "minorgridcolor": "white",
             "startlinecolor": "#2a3f5f"
            },
            "baxis": {
             "endlinecolor": "#2a3f5f",
             "gridcolor": "white",
             "linecolor": "white",
             "minorgridcolor": "white",
             "startlinecolor": "#2a3f5f"
            },
            "type": "carpet"
           }
          ],
          "choropleth": [
           {
            "colorbar": {
             "outlinewidth": 0,
             "ticks": ""
            },
            "type": "choropleth"
           }
          ],
          "contour": [
           {
            "colorbar": {
             "outlinewidth": 0,
             "ticks": ""
            },
            "colorscale": [
             [
              0,
              "#0d0887"
             ],
             [
              0.1111111111111111,
              "#46039f"
             ],
             [
              0.2222222222222222,
              "#7201a8"
             ],
             [
              0.3333333333333333,
              "#9c179e"
             ],
             [
              0.4444444444444444,
              "#bd3786"
             ],
             [
              0.5555555555555556,
              "#d8576b"
             ],
             [
              0.6666666666666666,
              "#ed7953"
             ],
             [
              0.7777777777777778,
              "#fb9f3a"
             ],
             [
              0.8888888888888888,
              "#fdca26"
             ],
             [
              1,
              "#f0f921"
             ]
            ],
            "type": "contour"
           }
          ],
          "contourcarpet": [
           {
            "colorbar": {
             "outlinewidth": 0,
             "ticks": ""
            },
            "type": "contourcarpet"
           }
          ],
          "heatmap": [
           {
            "colorbar": {
             "outlinewidth": 0,
             "ticks": ""
            },
            "colorscale": [
             [
              0,
              "#0d0887"
             ],
             [
              0.1111111111111111,
              "#46039f"
             ],
             [
              0.2222222222222222,
              "#7201a8"
             ],
             [
              0.3333333333333333,
              "#9c179e"
             ],
             [
              0.4444444444444444,
              "#bd3786"
             ],
             [
              0.5555555555555556,
              "#d8576b"
             ],
             [
              0.6666666666666666,
              "#ed7953"
             ],
             [
              0.7777777777777778,
              "#fb9f3a"
             ],
             [
              0.8888888888888888,
              "#fdca26"
             ],
             [
              1,
              "#f0f921"
             ]
            ],
            "type": "heatmap"
           }
          ],
          "heatmapgl": [
           {
            "colorbar": {
             "outlinewidth": 0,
             "ticks": ""
            },
            "colorscale": [
             [
              0,
              "#0d0887"
             ],
             [
              0.1111111111111111,
              "#46039f"
             ],
             [
              0.2222222222222222,
              "#7201a8"
             ],
             [
              0.3333333333333333,
              "#9c179e"
             ],
             [
              0.4444444444444444,
              "#bd3786"
             ],
             [
              0.5555555555555556,
              "#d8576b"
             ],
             [
              0.6666666666666666,
              "#ed7953"
             ],
             [
              0.7777777777777778,
              "#fb9f3a"
             ],
             [
              0.8888888888888888,
              "#fdca26"
             ],
             [
              1,
              "#f0f921"
             ]
            ],
            "type": "heatmapgl"
           }
          ],
          "histogram": [
           {
            "marker": {
             "pattern": {
              "fillmode": "overlay",
              "size": 10,
              "solidity": 0.2
             }
            },
            "type": "histogram"
           }
          ],
          "histogram2d": [
           {
            "colorbar": {
             "outlinewidth": 0,
             "ticks": ""
            },
            "colorscale": [
             [
              0,
              "#0d0887"
             ],
             [
              0.1111111111111111,
              "#46039f"
             ],
             [
              0.2222222222222222,
              "#7201a8"
             ],
             [
              0.3333333333333333,
              "#9c179e"
             ],
             [
              0.4444444444444444,
              "#bd3786"
             ],
             [
              0.5555555555555556,
              "#d8576b"
             ],
             [
              0.6666666666666666,
              "#ed7953"
             ],
             [
              0.7777777777777778,
              "#fb9f3a"
             ],
             [
              0.8888888888888888,
              "#fdca26"
             ],
             [
              1,
              "#f0f921"
             ]
            ],
            "type": "histogram2d"
           }
          ],
          "histogram2dcontour": [
           {
            "colorbar": {
             "outlinewidth": 0,
             "ticks": ""
            },
            "colorscale": [
             [
              0,
              "#0d0887"
             ],
             [
              0.1111111111111111,
              "#46039f"
             ],
             [
              0.2222222222222222,
              "#7201a8"
             ],
             [
              0.3333333333333333,
              "#9c179e"
             ],
             [
              0.4444444444444444,
              "#bd3786"
             ],
             [
              0.5555555555555556,
              "#d8576b"
             ],
             [
              0.6666666666666666,
              "#ed7953"
             ],
             [
              0.7777777777777778,
              "#fb9f3a"
             ],
             [
              0.8888888888888888,
              "#fdca26"
             ],
             [
              1,
              "#f0f921"
             ]
            ],
            "type": "histogram2dcontour"
           }
          ],
          "mesh3d": [
           {
            "colorbar": {
             "outlinewidth": 0,
             "ticks": ""
            },
            "type": "mesh3d"
           }
          ],
          "parcoords": [
           {
            "line": {
             "colorbar": {
              "outlinewidth": 0,
              "ticks": ""
             }
            },
            "type": "parcoords"
           }
          ],
          "pie": [
           {
            "automargin": true,
            "type": "pie"
           }
          ],
          "scatter": [
           {
            "fillpattern": {
             "fillmode": "overlay",
             "size": 10,
             "solidity": 0.2
            },
            "type": "scatter"
           }
          ],
          "scatter3d": [
           {
            "line": {
             "colorbar": {
              "outlinewidth": 0,
              "ticks": ""
             }
            },
            "marker": {
             "colorbar": {
              "outlinewidth": 0,
              "ticks": ""
             }
            },
            "type": "scatter3d"
           }
          ],
          "scattercarpet": [
           {
            "marker": {
             "colorbar": {
              "outlinewidth": 0,
              "ticks": ""
             }
            },
            "type": "scattercarpet"
           }
          ],
          "scattergeo": [
           {
            "marker": {
             "colorbar": {
              "outlinewidth": 0,
              "ticks": ""
             }
            },
            "type": "scattergeo"
           }
          ],
          "scattergl": [
           {
            "marker": {
             "colorbar": {
              "outlinewidth": 0,
              "ticks": ""
             }
            },
            "type": "scattergl"
           }
          ],
          "scattermapbox": [
           {
            "marker": {
             "colorbar": {
              "outlinewidth": 0,
              "ticks": ""
             }
            },
            "type": "scattermapbox"
           }
          ],
          "scatterpolar": [
           {
            "marker": {
             "colorbar": {
              "outlinewidth": 0,
              "ticks": ""
             }
            },
            "type": "scatterpolar"
           }
          ],
          "scatterpolargl": [
           {
            "marker": {
             "colorbar": {
              "outlinewidth": 0,
              "ticks": ""
             }
            },
            "type": "scatterpolargl"
           }
          ],
          "scatterternary": [
           {
            "marker": {
             "colorbar": {
              "outlinewidth": 0,
              "ticks": ""
             }
            },
            "type": "scatterternary"
           }
          ],
          "surface": [
           {
            "colorbar": {
             "outlinewidth": 0,
             "ticks": ""
            },
            "colorscale": [
             [
              0,
              "#0d0887"
             ],
             [
              0.1111111111111111,
              "#46039f"
             ],
             [
              0.2222222222222222,
              "#7201a8"
             ],
             [
              0.3333333333333333,
              "#9c179e"
             ],
             [
              0.4444444444444444,
              "#bd3786"
             ],
             [
              0.5555555555555556,
              "#d8576b"
             ],
             [
              0.6666666666666666,
              "#ed7953"
             ],
             [
              0.7777777777777778,
              "#fb9f3a"
             ],
             [
              0.8888888888888888,
              "#fdca26"
             ],
             [
              1,
              "#f0f921"
             ]
            ],
            "type": "surface"
           }
          ],
          "table": [
           {
            "cells": {
             "fill": {
              "color": "#EBF0F8"
             },
             "line": {
              "color": "white"
             }
            },
            "header": {
             "fill": {
              "color": "#C8D4E3"
             },
             "line": {
              "color": "white"
             }
            },
            "type": "table"
           }
          ]
         },
         "layout": {
          "annotationdefaults": {
           "arrowcolor": "#2a3f5f",
           "arrowhead": 0,
           "arrowwidth": 1
          },
          "autotypenumbers": "strict",
          "coloraxis": {
           "colorbar": {
            "outlinewidth": 0,
            "ticks": ""
           }
          },
          "colorscale": {
           "diverging": [
            [
             0,
             "#8e0152"
            ],
            [
             0.1,
             "#c51b7d"
            ],
            [
             0.2,
             "#de77ae"
            ],
            [
             0.3,
             "#f1b6da"
            ],
            [
             0.4,
             "#fde0ef"
            ],
            [
             0.5,
             "#f7f7f7"
            ],
            [
             0.6,
             "#e6f5d0"
            ],
            [
             0.7,
             "#b8e186"
            ],
            [
             0.8,
             "#7fbc41"
            ],
            [
             0.9,
             "#4d9221"
            ],
            [
             1,
             "#276419"
            ]
           ],
           "sequential": [
            [
             0,
             "#0d0887"
            ],
            [
             0.1111111111111111,
             "#46039f"
            ],
            [
             0.2222222222222222,
             "#7201a8"
            ],
            [
             0.3333333333333333,
             "#9c179e"
            ],
            [
             0.4444444444444444,
             "#bd3786"
            ],
            [
             0.5555555555555556,
             "#d8576b"
            ],
            [
             0.6666666666666666,
             "#ed7953"
            ],
            [
             0.7777777777777778,
             "#fb9f3a"
            ],
            [
             0.8888888888888888,
             "#fdca26"
            ],
            [
             1,
             "#f0f921"
            ]
           ],
           "sequentialminus": [
            [
             0,
             "#0d0887"
            ],
            [
             0.1111111111111111,
             "#46039f"
            ],
            [
             0.2222222222222222,
             "#7201a8"
            ],
            [
             0.3333333333333333,
             "#9c179e"
            ],
            [
             0.4444444444444444,
             "#bd3786"
            ],
            [
             0.5555555555555556,
             "#d8576b"
            ],
            [
             0.6666666666666666,
             "#ed7953"
            ],
            [
             0.7777777777777778,
             "#fb9f3a"
            ],
            [
             0.8888888888888888,
             "#fdca26"
            ],
            [
             1,
             "#f0f921"
            ]
           ]
          },
          "colorway": [
           "#636efa",
           "#EF553B",
           "#00cc96",
           "#ab63fa",
           "#FFA15A",
           "#19d3f3",
           "#FF6692",
           "#B6E880",
           "#FF97FF",
           "#FECB52"
          ],
          "font": {
           "color": "#2a3f5f"
          },
          "geo": {
           "bgcolor": "white",
           "lakecolor": "white",
           "landcolor": "#E5ECF6",
           "showlakes": true,
           "showland": true,
           "subunitcolor": "white"
          },
          "hoverlabel": {
           "align": "left"
          },
          "hovermode": "closest",
          "mapbox": {
           "style": "light"
          },
          "paper_bgcolor": "white",
          "plot_bgcolor": "#E5ECF6",
          "polar": {
           "angularaxis": {
            "gridcolor": "white",
            "linecolor": "white",
            "ticks": ""
           },
           "bgcolor": "#E5ECF6",
           "radialaxis": {
            "gridcolor": "white",
            "linecolor": "white",
            "ticks": ""
           }
          },
          "scene": {
           "xaxis": {
            "backgroundcolor": "#E5ECF6",
            "gridcolor": "white",
            "gridwidth": 2,
            "linecolor": "white",
            "showbackground": true,
            "ticks": "",
            "zerolinecolor": "white"
           },
           "yaxis": {
            "backgroundcolor": "#E5ECF6",
            "gridcolor": "white",
            "gridwidth": 2,
            "linecolor": "white",
            "showbackground": true,
            "ticks": "",
            "zerolinecolor": "white"
           },
           "zaxis": {
            "backgroundcolor": "#E5ECF6",
            "gridcolor": "white",
            "gridwidth": 2,
            "linecolor": "white",
            "showbackground": true,
            "ticks": "",
            "zerolinecolor": "white"
           }
          },
          "shapedefaults": {
           "line": {
            "color": "#2a3f5f"
           }
          },
          "ternary": {
           "aaxis": {
            "gridcolor": "white",
            "linecolor": "white",
            "ticks": ""
           },
           "baxis": {
            "gridcolor": "white",
            "linecolor": "white",
            "ticks": ""
           },
           "bgcolor": "#E5ECF6",
           "caxis": {
            "gridcolor": "white",
            "linecolor": "white",
            "ticks": ""
           }
          },
          "title": {
           "x": 0.05
          },
          "xaxis": {
           "automargin": true,
           "gridcolor": "white",
           "linecolor": "white",
           "ticks": "",
           "title": {
            "standoff": 15
           },
           "zerolinecolor": "white",
           "zerolinewidth": 2
          },
          "yaxis": {
           "automargin": true,
           "gridcolor": "white",
           "linecolor": "white",
           "ticks": "",
           "title": {
            "standoff": 15
           },
           "zerolinecolor": "white",
           "zerolinewidth": 2
          }
         }
        },
        "width": 1200,
        "xaxis": {
         "title": {
          "text": "The Big Mac index for USD"
         }
        },
        "yaxis": {
         "tickformat": ".1%"
        }
       }
      },
      "text/html": [
       "<div>                            <div id=\"7638e2c4-2eb8-4552-8fc7-577213e03185\" class=\"plotly-graph-div\" style=\"height:800px; width:1200px;\"></div>            <script type=\"text/javascript\">                require([\"plotly\"], function(Plotly) {                    window.PLOTLYENV=window.PLOTLYENV || {};                                    if (document.getElementById(\"7638e2c4-2eb8-4552-8fc7-577213e03185\")) {                    Plotly.newPlot(                        \"7638e2c4-2eb8-4552-8fc7-577213e03185\",                        [{\"marker\":{\"color\":\"darkblue\",\"size\":10},\"mode\":\"markers\",\"x\":[\"Venezuela\",\"Kazakhstan\",\"Romania\",\"Indonesia\",\"South Africa\",\"India\",\"Egypt\",\"Malaysia\",\"Taiwan\",\"Hungary\",\"Hong Kong\",\"Turkey\",\"Philippines\",\"Azerbaijan\",\"Japan\",\"Vietnam\",\"Moldova\",\"Pakistan\",\"Jordan\",\"Guatemala\",\"Mexico\",\"Colombia\",\"Thailand\",\"South Korea\",\"China\",\"Qatar\",\"Peru\",\"Poland\",\"Honduras\",\"Chile\",\"Croatia\",\"Oman\",\"Sri Lanka\",\"Nicaragua\",\"Costa Rica\",\"Czech Republic\",\"Kuwait\",\"Singapore\",\"Bahrain\",\"Brazil\",\"New Zealand\",\"Britain\",\"Saudi Arabia\",\"Argentina\",\"Australia\",\"Euro area\",\"United Arab Emirates\",\"Israel\",\"Lebanon\",\"United States\",\"Canada\",\"Sweden\",\"Uruguay\",\"Norway\",\"Switzerland\"],\"y\":[-0.6577332770190485,-0.5751187947617409,-0.5570234188630503,-0.5462449337436576,-0.5452301524376562,-0.5361253833173858,-0.5285279052546078,-0.5243809316024872,-0.5130617137468358,-0.4859221714441847,-0.480548296114928,-0.4804319047974376,-0.4650833132739577,-0.4626107114834088,-0.4507079001936255,-0.4278490732191492,-0.39628534371990853,-0.387046989415615,-0.3711160434449443,-0.34671208357763583,-0.3341220815819358,-0.3241338685108094,-0.3211507290668806,-0.31995593018756285,-0.3093297109595202,-0.30685196824049044,-0.30667014495457257,-0.30324410255971124,-0.29792592329643497,-0.2889171834783463,-0.2846074617958857,-0.2838229731433616,-0.2772384034519957,-0.24797182328960932,-0.24117488177182522,-0.2288209890573758,-0.1788315404488634,-0.17663427629641726,-0.17591614946820833,-0.17529523035237693,-0.14034854368932104,-0.13786295619081967,-0.12091321603557714,-0.1127049003127717,-0.10180970873786532,-0.07474240778887531,-0.04843505232219514,-0.039703596041714806,-0.013956310679611672,0.0,0.019713072021189326,0.08532300093142586,0.18144984745397563,0.21633265991991113,0.30325357254385565],\"type\":\"scatter\"}],                        {\"template\":{\"data\":{\"histogram2dcontour\":[{\"type\":\"histogram2dcontour\",\"colorbar\":{\"outlinewidth\":0,\"ticks\":\"\"},\"colorscale\":[[0.0,\"#0d0887\"],[0.1111111111111111,\"#46039f\"],[0.2222222222222222,\"#7201a8\"],[0.3333333333333333,\"#9c179e\"],[0.4444444444444444,\"#bd3786\"],[0.5555555555555556,\"#d8576b\"],[0.6666666666666666,\"#ed7953\"],[0.7777777777777778,\"#fb9f3a\"],[0.8888888888888888,\"#fdca26\"],[1.0,\"#f0f921\"]]}],\"choropleth\":[{\"type\":\"choropleth\",\"colorbar\":{\"outlinewidth\":0,\"ticks\":\"\"}}],\"histogram2d\":[{\"type\":\"histogram2d\",\"colorbar\":{\"outlinewidth\":0,\"ticks\":\"\"},\"colorscale\":[[0.0,\"#0d0887\"],[0.1111111111111111,\"#46039f\"],[0.2222222222222222,\"#7201a8\"],[0.3333333333333333,\"#9c179e\"],[0.4444444444444444,\"#bd3786\"],[0.5555555555555556,\"#d8576b\"],[0.6666666666666666,\"#ed7953\"],[0.7777777777777778,\"#fb9f3a\"],[0.8888888888888888,\"#fdca26\"],[1.0,\"#f0f921\"]]}],\"heatmap\":[{\"type\":\"heatmap\",\"colorbar\":{\"outlinewidth\":0,\"ticks\":\"\"},\"colorscale\":[[0.0,\"#0d0887\"],[0.1111111111111111,\"#46039f\"],[0.2222222222222222,\"#7201a8\"],[0.3333333333333333,\"#9c179e\"],[0.4444444444444444,\"#bd3786\"],[0.5555555555555556,\"#d8576b\"],[0.6666666666666666,\"#ed7953\"],[0.7777777777777778,\"#fb9f3a\"],[0.8888888888888888,\"#fdca26\"],[1.0,\"#f0f921\"]]}],\"heatmapgl\":[{\"type\":\"heatmapgl\",\"colorbar\":{\"outlinewidth\":0,\"ticks\":\"\"},\"colorscale\":[[0.0,\"#0d0887\"],[0.1111111111111111,\"#46039f\"],[0.2222222222222222,\"#7201a8\"],[0.3333333333333333,\"#9c179e\"],[0.4444444444444444,\"#bd3786\"],[0.5555555555555556,\"#d8576b\"],[0.6666666666666666,\"#ed7953\"],[0.7777777777777778,\"#fb9f3a\"],[0.8888888888888888,\"#fdca26\"],[1.0,\"#f0f921\"]]}],\"contourcarpet\":[{\"type\":\"contourcarpet\",\"colorbar\":{\"outlinewidth\":0,\"ticks\":\"\"}}],\"contour\":[{\"type\":\"contour\",\"colorbar\":{\"outlinewidth\":0,\"ticks\":\"\"},\"colorscale\":[[0.0,\"#0d0887\"],[0.1111111111111111,\"#46039f\"],[0.2222222222222222,\"#7201a8\"],[0.3333333333333333,\"#9c179e\"],[0.4444444444444444,\"#bd3786\"],[0.5555555555555556,\"#d8576b\"],[0.6666666666666666,\"#ed7953\"],[0.7777777777777778,\"#fb9f3a\"],[0.8888888888888888,\"#fdca26\"],[1.0,\"#f0f921\"]]}],\"surface\":[{\"type\":\"surface\",\"colorbar\":{\"outlinewidth\":0,\"ticks\":\"\"},\"colorscale\":[[0.0,\"#0d0887\"],[0.1111111111111111,\"#46039f\"],[0.2222222222222222,\"#7201a8\"],[0.3333333333333333,\"#9c179e\"],[0.4444444444444444,\"#bd3786\"],[0.5555555555555556,\"#d8576b\"],[0.6666666666666666,\"#ed7953\"],[0.7777777777777778,\"#fb9f3a\"],[0.8888888888888888,\"#fdca26\"],[1.0,\"#f0f921\"]]}],\"mesh3d\":[{\"type\":\"mesh3d\",\"colorbar\":{\"outlinewidth\":0,\"ticks\":\"\"}}],\"scatter\":[{\"fillpattern\":{\"fillmode\":\"overlay\",\"size\":10,\"solidity\":0.2},\"type\":\"scatter\"}],\"parcoords\":[{\"type\":\"parcoords\",\"line\":{\"colorbar\":{\"outlinewidth\":0,\"ticks\":\"\"}}}],\"scatterpolargl\":[{\"type\":\"scatterpolargl\",\"marker\":{\"colorbar\":{\"outlinewidth\":0,\"ticks\":\"\"}}}],\"bar\":[{\"error_x\":{\"color\":\"#2a3f5f\"},\"error_y\":{\"color\":\"#2a3f5f\"},\"marker\":{\"line\":{\"color\":\"#E5ECF6\",\"width\":0.5},\"pattern\":{\"fillmode\":\"overlay\",\"size\":10,\"solidity\":0.2}},\"type\":\"bar\"}],\"scattergeo\":[{\"type\":\"scattergeo\",\"marker\":{\"colorbar\":{\"outlinewidth\":0,\"ticks\":\"\"}}}],\"scatterpolar\":[{\"type\":\"scatterpolar\",\"marker\":{\"colorbar\":{\"outlinewidth\":0,\"ticks\":\"\"}}}],\"histogram\":[{\"marker\":{\"pattern\":{\"fillmode\":\"overlay\",\"size\":10,\"solidity\":0.2}},\"type\":\"histogram\"}],\"scattergl\":[{\"type\":\"scattergl\",\"marker\":{\"colorbar\":{\"outlinewidth\":0,\"ticks\":\"\"}}}],\"scatter3d\":[{\"type\":\"scatter3d\",\"line\":{\"colorbar\":{\"outlinewidth\":0,\"ticks\":\"\"}},\"marker\":{\"colorbar\":{\"outlinewidth\":0,\"ticks\":\"\"}}}],\"scattermapbox\":[{\"type\":\"scattermapbox\",\"marker\":{\"colorbar\":{\"outlinewidth\":0,\"ticks\":\"\"}}}],\"scatterternary\":[{\"type\":\"scatterternary\",\"marker\":{\"colorbar\":{\"outlinewidth\":0,\"ticks\":\"\"}}}],\"scattercarpet\":[{\"type\":\"scattercarpet\",\"marker\":{\"colorbar\":{\"outlinewidth\":0,\"ticks\":\"\"}}}],\"carpet\":[{\"aaxis\":{\"endlinecolor\":\"#2a3f5f\",\"gridcolor\":\"white\",\"linecolor\":\"white\",\"minorgridcolor\":\"white\",\"startlinecolor\":\"#2a3f5f\"},\"baxis\":{\"endlinecolor\":\"#2a3f5f\",\"gridcolor\":\"white\",\"linecolor\":\"white\",\"minorgridcolor\":\"white\",\"startlinecolor\":\"#2a3f5f\"},\"type\":\"carpet\"}],\"table\":[{\"cells\":{\"fill\":{\"color\":\"#EBF0F8\"},\"line\":{\"color\":\"white\"}},\"header\":{\"fill\":{\"color\":\"#C8D4E3\"},\"line\":{\"color\":\"white\"}},\"type\":\"table\"}],\"barpolar\":[{\"marker\":{\"line\":{\"color\":\"#E5ECF6\",\"width\":0.5},\"pattern\":{\"fillmode\":\"overlay\",\"size\":10,\"solidity\":0.2}},\"type\":\"barpolar\"}],\"pie\":[{\"automargin\":true,\"type\":\"pie\"}]},\"layout\":{\"autotypenumbers\":\"strict\",\"colorway\":[\"#636efa\",\"#EF553B\",\"#00cc96\",\"#ab63fa\",\"#FFA15A\",\"#19d3f3\",\"#FF6692\",\"#B6E880\",\"#FF97FF\",\"#FECB52\"],\"font\":{\"color\":\"#2a3f5f\"},\"hovermode\":\"closest\",\"hoverlabel\":{\"align\":\"left\"},\"paper_bgcolor\":\"white\",\"plot_bgcolor\":\"#E5ECF6\",\"polar\":{\"bgcolor\":\"#E5ECF6\",\"angularaxis\":{\"gridcolor\":\"white\",\"linecolor\":\"white\",\"ticks\":\"\"},\"radialaxis\":{\"gridcolor\":\"white\",\"linecolor\":\"white\",\"ticks\":\"\"}},\"ternary\":{\"bgcolor\":\"#E5ECF6\",\"aaxis\":{\"gridcolor\":\"white\",\"linecolor\":\"white\",\"ticks\":\"\"},\"baxis\":{\"gridcolor\":\"white\",\"linecolor\":\"white\",\"ticks\":\"\"},\"caxis\":{\"gridcolor\":\"white\",\"linecolor\":\"white\",\"ticks\":\"\"}},\"coloraxis\":{\"colorbar\":{\"outlinewidth\":0,\"ticks\":\"\"}},\"colorscale\":{\"sequential\":[[0.0,\"#0d0887\"],[0.1111111111111111,\"#46039f\"],[0.2222222222222222,\"#7201a8\"],[0.3333333333333333,\"#9c179e\"],[0.4444444444444444,\"#bd3786\"],[0.5555555555555556,\"#d8576b\"],[0.6666666666666666,\"#ed7953\"],[0.7777777777777778,\"#fb9f3a\"],[0.8888888888888888,\"#fdca26\"],[1.0,\"#f0f921\"]],\"sequentialminus\":[[0.0,\"#0d0887\"],[0.1111111111111111,\"#46039f\"],[0.2222222222222222,\"#7201a8\"],[0.3333333333333333,\"#9c179e\"],[0.4444444444444444,\"#bd3786\"],[0.5555555555555556,\"#d8576b\"],[0.6666666666666666,\"#ed7953\"],[0.7777777777777778,\"#fb9f3a\"],[0.8888888888888888,\"#fdca26\"],[1.0,\"#f0f921\"]],\"diverging\":[[0,\"#8e0152\"],[0.1,\"#c51b7d\"],[0.2,\"#de77ae\"],[0.3,\"#f1b6da\"],[0.4,\"#fde0ef\"],[0.5,\"#f7f7f7\"],[0.6,\"#e6f5d0\"],[0.7,\"#b8e186\"],[0.8,\"#7fbc41\"],[0.9,\"#4d9221\"],[1,\"#276419\"]]},\"xaxis\":{\"gridcolor\":\"white\",\"linecolor\":\"white\",\"ticks\":\"\",\"title\":{\"standoff\":15},\"zerolinecolor\":\"white\",\"automargin\":true,\"zerolinewidth\":2},\"yaxis\":{\"gridcolor\":\"white\",\"linecolor\":\"white\",\"ticks\":\"\",\"title\":{\"standoff\":15},\"zerolinecolor\":\"white\",\"automargin\":true,\"zerolinewidth\":2},\"scene\":{\"xaxis\":{\"backgroundcolor\":\"#E5ECF6\",\"gridcolor\":\"white\",\"linecolor\":\"white\",\"showbackground\":true,\"ticks\":\"\",\"zerolinecolor\":\"white\",\"gridwidth\":2},\"yaxis\":{\"backgroundcolor\":\"#E5ECF6\",\"gridcolor\":\"white\",\"linecolor\":\"white\",\"showbackground\":true,\"ticks\":\"\",\"zerolinecolor\":\"white\",\"gridwidth\":2},\"zaxis\":{\"backgroundcolor\":\"#E5ECF6\",\"gridcolor\":\"white\",\"linecolor\":\"white\",\"showbackground\":true,\"ticks\":\"\",\"zerolinecolor\":\"white\",\"gridwidth\":2}},\"shapedefaults\":{\"line\":{\"color\":\"#2a3f5f\"}},\"annotationdefaults\":{\"arrowcolor\":\"#2a3f5f\",\"arrowhead\":0,\"arrowwidth\":1},\"geo\":{\"bgcolor\":\"white\",\"landcolor\":\"#E5ECF6\",\"subunitcolor\":\"white\",\"showland\":true,\"showlakes\":true,\"lakecolor\":\"white\"},\"title\":{\"x\":0.05},\"mapbox\":{\"style\":\"light\"}}},\"shapes\":[{\"line\":{\"color\":\"crimson\",\"width\":3},\"type\":\"line\",\"x0\":0,\"x1\":0,\"y0\":0,\"y1\":-0.6577332770190485},{\"line\":{\"color\":\"crimson\",\"width\":3},\"type\":\"line\",\"x0\":1,\"x1\":1,\"y0\":0,\"y1\":-0.5751187947617409},{\"line\":{\"color\":\"crimson\",\"width\":3},\"type\":\"line\",\"x0\":2,\"x1\":2,\"y0\":0,\"y1\":-0.5570234188630503},{\"line\":{\"color\":\"crimson\",\"width\":3},\"type\":\"line\",\"x0\":3,\"x1\":3,\"y0\":0,\"y1\":-0.5462449337436576},{\"line\":{\"color\":\"crimson\",\"width\":3},\"type\":\"line\",\"x0\":4,\"x1\":4,\"y0\":0,\"y1\":-0.5452301524376562},{\"line\":{\"color\":\"crimson\",\"width\":3},\"type\":\"line\",\"x0\":5,\"x1\":5,\"y0\":0,\"y1\":-0.5361253833173858},{\"line\":{\"color\":\"crimson\",\"width\":3},\"type\":\"line\",\"x0\":6,\"x1\":6,\"y0\":0,\"y1\":-0.5285279052546078},{\"line\":{\"color\":\"crimson\",\"width\":3},\"type\":\"line\",\"x0\":7,\"x1\":7,\"y0\":0,\"y1\":-0.5243809316024872},{\"line\":{\"color\":\"crimson\",\"width\":3},\"type\":\"line\",\"x0\":8,\"x1\":8,\"y0\":0,\"y1\":-0.5130617137468358},{\"line\":{\"color\":\"crimson\",\"width\":3},\"type\":\"line\",\"x0\":9,\"x1\":9,\"y0\":0,\"y1\":-0.4859221714441847},{\"line\":{\"color\":\"crimson\",\"width\":3},\"type\":\"line\",\"x0\":10,\"x1\":10,\"y0\":0,\"y1\":-0.480548296114928},{\"line\":{\"color\":\"crimson\",\"width\":3},\"type\":\"line\",\"x0\":11,\"x1\":11,\"y0\":0,\"y1\":-0.4804319047974376},{\"line\":{\"color\":\"crimson\",\"width\":3},\"type\":\"line\",\"x0\":12,\"x1\":12,\"y0\":0,\"y1\":-0.4650833132739577},{\"line\":{\"color\":\"crimson\",\"width\":3},\"type\":\"line\",\"x0\":13,\"x1\":13,\"y0\":0,\"y1\":-0.4626107114834088},{\"line\":{\"color\":\"crimson\",\"width\":3},\"type\":\"line\",\"x0\":14,\"x1\":14,\"y0\":0,\"y1\":-0.4507079001936255},{\"line\":{\"color\":\"crimson\",\"width\":3},\"type\":\"line\",\"x0\":15,\"x1\":15,\"y0\":0,\"y1\":-0.4278490732191492},{\"line\":{\"color\":\"crimson\",\"width\":3},\"type\":\"line\",\"x0\":16,\"x1\":16,\"y0\":0,\"y1\":-0.39628534371990853},{\"line\":{\"color\":\"crimson\",\"width\":3},\"type\":\"line\",\"x0\":17,\"x1\":17,\"y0\":0,\"y1\":-0.387046989415615},{\"line\":{\"color\":\"crimson\",\"width\":3},\"type\":\"line\",\"x0\":18,\"x1\":18,\"y0\":0,\"y1\":-0.3711160434449443},{\"line\":{\"color\":\"crimson\",\"width\":3},\"type\":\"line\",\"x0\":19,\"x1\":19,\"y0\":0,\"y1\":-0.34671208357763583},{\"line\":{\"color\":\"crimson\",\"width\":3},\"type\":\"line\",\"x0\":20,\"x1\":20,\"y0\":0,\"y1\":-0.3341220815819358},{\"line\":{\"color\":\"crimson\",\"width\":3},\"type\":\"line\",\"x0\":21,\"x1\":21,\"y0\":0,\"y1\":-0.3241338685108094},{\"line\":{\"color\":\"crimson\",\"width\":3},\"type\":\"line\",\"x0\":22,\"x1\":22,\"y0\":0,\"y1\":-0.3211507290668806},{\"line\":{\"color\":\"crimson\",\"width\":3},\"type\":\"line\",\"x0\":23,\"x1\":23,\"y0\":0,\"y1\":-0.31995593018756285},{\"line\":{\"color\":\"crimson\",\"width\":3},\"type\":\"line\",\"x0\":24,\"x1\":24,\"y0\":0,\"y1\":-0.3093297109595202},{\"line\":{\"color\":\"crimson\",\"width\":3},\"type\":\"line\",\"x0\":25,\"x1\":25,\"y0\":0,\"y1\":-0.30685196824049044},{\"line\":{\"color\":\"crimson\",\"width\":3},\"type\":\"line\",\"x0\":26,\"x1\":26,\"y0\":0,\"y1\":-0.30667014495457257},{\"line\":{\"color\":\"crimson\",\"width\":3},\"type\":\"line\",\"x0\":27,\"x1\":27,\"y0\":0,\"y1\":-0.30324410255971124},{\"line\":{\"color\":\"crimson\",\"width\":3},\"type\":\"line\",\"x0\":28,\"x1\":28,\"y0\":0,\"y1\":-0.29792592329643497},{\"line\":{\"color\":\"crimson\",\"width\":3},\"type\":\"line\",\"x0\":29,\"x1\":29,\"y0\":0,\"y1\":-0.2889171834783463},{\"line\":{\"color\":\"crimson\",\"width\":3},\"type\":\"line\",\"x0\":30,\"x1\":30,\"y0\":0,\"y1\":-0.2846074617958857},{\"line\":{\"color\":\"crimson\",\"width\":3},\"type\":\"line\",\"x0\":31,\"x1\":31,\"y0\":0,\"y1\":-0.2838229731433616},{\"line\":{\"color\":\"crimson\",\"width\":3},\"type\":\"line\",\"x0\":32,\"x1\":32,\"y0\":0,\"y1\":-0.2772384034519957},{\"line\":{\"color\":\"crimson\",\"width\":3},\"type\":\"line\",\"x0\":33,\"x1\":33,\"y0\":0,\"y1\":-0.24797182328960932},{\"line\":{\"color\":\"crimson\",\"width\":3},\"type\":\"line\",\"x0\":34,\"x1\":34,\"y0\":0,\"y1\":-0.24117488177182522},{\"line\":{\"color\":\"crimson\",\"width\":3},\"type\":\"line\",\"x0\":35,\"x1\":35,\"y0\":0,\"y1\":-0.2288209890573758},{\"line\":{\"color\":\"crimson\",\"width\":3},\"type\":\"line\",\"x0\":36,\"x1\":36,\"y0\":0,\"y1\":-0.1788315404488634},{\"line\":{\"color\":\"crimson\",\"width\":3},\"type\":\"line\",\"x0\":37,\"x1\":37,\"y0\":0,\"y1\":-0.17663427629641726},{\"line\":{\"color\":\"crimson\",\"width\":3},\"type\":\"line\",\"x0\":38,\"x1\":38,\"y0\":0,\"y1\":-0.17591614946820833},{\"line\":{\"color\":\"crimson\",\"width\":3},\"type\":\"line\",\"x0\":39,\"x1\":39,\"y0\":0,\"y1\":-0.17529523035237693},{\"line\":{\"color\":\"crimson\",\"width\":3},\"type\":\"line\",\"x0\":40,\"x1\":40,\"y0\":0,\"y1\":-0.14034854368932104},{\"line\":{\"color\":\"crimson\",\"width\":3},\"type\":\"line\",\"x0\":41,\"x1\":41,\"y0\":0,\"y1\":-0.13786295619081967},{\"line\":{\"color\":\"crimson\",\"width\":3},\"type\":\"line\",\"x0\":42,\"x1\":42,\"y0\":0,\"y1\":-0.12091321603557714},{\"line\":{\"color\":\"crimson\",\"width\":3},\"type\":\"line\",\"x0\":43,\"x1\":43,\"y0\":0,\"y1\":-0.1127049003127717},{\"line\":{\"color\":\"crimson\",\"width\":3},\"type\":\"line\",\"x0\":44,\"x1\":44,\"y0\":0,\"y1\":-0.10180970873786532},{\"line\":{\"color\":\"crimson\",\"width\":3},\"type\":\"line\",\"x0\":45,\"x1\":45,\"y0\":0,\"y1\":-0.07474240778887531},{\"line\":{\"color\":\"crimson\",\"width\":3},\"type\":\"line\",\"x0\":46,\"x1\":46,\"y0\":0,\"y1\":-0.04843505232219514},{\"line\":{\"color\":\"crimson\",\"width\":3},\"type\":\"line\",\"x0\":47,\"x1\":47,\"y0\":0,\"y1\":-0.039703596041714806},{\"line\":{\"color\":\"crimson\",\"width\":3},\"type\":\"line\",\"x0\":48,\"x1\":48,\"y0\":0,\"y1\":-0.013956310679611672},{\"line\":{\"color\":\"blue\",\"width\":3},\"type\":\"line\",\"x0\":49,\"x1\":49,\"y0\":0,\"y1\":0.0},{\"line\":{\"color\":\"blue\",\"width\":3},\"type\":\"line\",\"x0\":50,\"x1\":50,\"y0\":0,\"y1\":0.019713072021189326},{\"line\":{\"color\":\"blue\",\"width\":3},\"type\":\"line\",\"x0\":51,\"x1\":51,\"y0\":0,\"y1\":0.08532300093142586},{\"line\":{\"color\":\"blue\",\"width\":3},\"type\":\"line\",\"x0\":52,\"x1\":52,\"y0\":0,\"y1\":0.18144984745397563},{\"line\":{\"color\":\"blue\",\"width\":3},\"type\":\"line\",\"x0\":53,\"x1\":53,\"y0\":0,\"y1\":0.21633265991991113},{\"line\":{\"color\":\"blue\",\"width\":3},\"type\":\"line\",\"x0\":54,\"x1\":54,\"y0\":0,\"y1\":0.30325357254385565}],\"xaxis\":{\"title\":{\"text\":\"The Big Mac index for USD\"}},\"yaxis\":{\"tickformat\":\".1%\"},\"autosize\":false,\"width\":1200,\"height\":800,\"paper_bgcolor\":\"rgba(255,255,255,1)\",\"plot_bgcolor\":\"rgba(255,255,255,1)\"},                        {\"responsive\": true}                    ).then(function(){\n",
       "                            \n",
       "var gd = document.getElementById('7638e2c4-2eb8-4552-8fc7-577213e03185');\n",
       "var x = new MutationObserver(function (mutations, observer) {{\n",
       "        var display = window.getComputedStyle(gd).display;\n",
       "        if (!display || display === 'none') {{\n",
       "            console.log([gd, 'removed!']);\n",
       "            Plotly.purge(gd);\n",
       "            observer.disconnect();\n",
       "        }}\n",
       "}});\n",
       "\n",
       "// Listen for the removal of the full notebook cells\n",
       "var notebookContainer = gd.closest('#notebook-container');\n",
       "if (notebookContainer) {{\n",
       "    x.observe(notebookContainer, {childList: true});\n",
       "}}\n",
       "\n",
       "// Listen for the clearing of the current output cell\n",
       "var outputEl = gd.closest('.output');\n",
       "if (outputEl) {{\n",
       "    x.observe(outputEl, {childList: true});\n",
       "}}\n",
       "\n",
       "                        })                };                });            </script>        </div>"
      ]
     },
     "metadata": {},
     "output_type": "display_data"
    }
   ],
   "source": [
    "import plotly.express as px\n",
    "import plotly.graph_objects as go\n",
    "\n",
    "data = latest_data.sort_values(by = ['USD'],\n",
    "                    ascending = True).reset_index(drop=True)\n",
    "fig = go.Figure()\n",
    "\n",
    "# Draw points\n",
    "fig.add_trace(go.Scatter(y = data[\"USD\"], \n",
    "                          x = data[\"name\"],\n",
    "                          mode = 'markers',\n",
    "                          marker_color ='darkblue',\n",
    "                          marker_size  = 10))\n",
    "\n",
    "# Draw lines\n",
    "for i in range(0, len(data)):\n",
    "               fig.add_shape(type='line',\n",
    "                              y0 = 0, x0 = i,\n",
    "                              y1 = data[\"USD\"][i],\n",
    "                              x1 = i,\n",
    "                              line=dict(color='crimson' if data[\"USD\"][i] < 0 else 'blue', width = 3))\n",
    "\n",
    "# Set x-axes range\n",
    "fig.update_xaxes(title = 'The Big Mac index for USD')\n",
    "\n",
    "# Set y-axes as percentage\n",
    "fig.update_yaxes(tickformat=\".1%\")\n",
    "\n",
    "# Set figure size\n",
    "fig.update_layout(\n",
    "    autosize=False,\n",
    "    width=1200,\n",
    "    height=800,\n",
    "    paper_bgcolor=\"rgba(255,255,255,1)\", \n",
    "    plot_bgcolor=\"rgba(255,255,255,1)\"\n",
    ")\n",
    "\n",
    "fig.show()"
   ]
  },
  {
   "cell_type": "code",
   "execution_count": 34,
   "metadata": {},
   "outputs": [],
   "source": [
    "latest_data.to_csv('./../data/cleaned/big-mac-source-data-plus-kaz.csv', index=False)"
   ]
  }
 ],
 "metadata": {
  "kernelspec": {
   "display_name": "Python 3.8.13 ('.venv': poetry)",
   "language": "python",
   "name": "python3"
  },
  "language_info": {
   "codemirror_mode": {
    "name": "ipython",
    "version": 3
   },
   "file_extension": ".py",
   "mimetype": "text/x-python",
   "name": "python",
   "nbconvert_exporter": "python",
   "pygments_lexer": "ipython3",
   "version": "3.8.13"
  },
  "orig_nbformat": 4,
  "vscode": {
   "interpreter": {
    "hash": "756bceef4b86e48ed03e6624b4576a0a56f10fe7c098d94a47c941fa87723d19"
   }
  }
 },
 "nbformat": 4,
 "nbformat_minor": 2
}
